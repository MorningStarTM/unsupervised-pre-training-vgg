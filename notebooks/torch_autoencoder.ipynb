{
 "cells": [
  {
   "cell_type": "code",
   "execution_count": 1,
   "metadata": {},
   "outputs": [
    {
     "data": {
      "text/plain": [
       "'e:\\\\github_clone\\\\unsupervised-pre-training-vgg'"
      ]
     },
     "execution_count": 1,
     "metadata": {},
     "output_type": "execute_result"
    }
   ],
   "source": [
    "import os\n",
    "os.chdir('../')\n",
    "os.getcwd()"
   ]
  },
  {
   "cell_type": "code",
   "execution_count": 2,
   "metadata": {},
   "outputs": [],
   "source": [
    "from torch_modules import VGGAutoencoder"
   ]
  },
  {
   "cell_type": "code",
   "execution_count": 3,
   "metadata": {},
   "outputs": [],
   "source": [
    "model = VGGAutoencoder().cuda()"
   ]
  },
  {
   "cell_type": "code",
   "execution_count": 4,
   "metadata": {},
   "outputs": [
    {
     "name": "stdout",
     "output_type": "stream",
     "text": [
      "----------------------------------------------------------------\n",
      "        Layer (type)               Output Shape         Param #\n",
      "================================================================\n",
      "            Conv2d-1         [-1, 64, 256, 256]           1,792\n",
      "              ReLU-2         [-1, 64, 256, 256]               0\n",
      "            Conv2d-3         [-1, 64, 256, 256]          36,928\n",
      "              ReLU-4         [-1, 64, 256, 256]               0\n",
      "         MaxPool2d-5         [-1, 64, 128, 128]               0\n",
      "            Conv2d-6        [-1, 128, 128, 128]          73,856\n",
      "              ReLU-7        [-1, 128, 128, 128]               0\n",
      "            Conv2d-8        [-1, 128, 128, 128]         147,584\n",
      "              ReLU-9        [-1, 128, 128, 128]               0\n",
      "        MaxPool2d-10          [-1, 128, 64, 64]               0\n",
      "           Conv2d-11          [-1, 256, 64, 64]         295,168\n",
      "             ReLU-12          [-1, 256, 64, 64]               0\n",
      "           Conv2d-13          [-1, 256, 64, 64]         590,080\n",
      "             ReLU-14          [-1, 256, 64, 64]               0\n",
      "           Conv2d-15          [-1, 256, 64, 64]         590,080\n",
      "             ReLU-16          [-1, 256, 64, 64]               0\n",
      "        MaxPool2d-17          [-1, 256, 32, 32]               0\n",
      "           Conv2d-18          [-1, 512, 32, 32]       1,180,160\n",
      "             ReLU-19          [-1, 512, 32, 32]               0\n",
      "           Conv2d-20          [-1, 512, 32, 32]       2,359,808\n",
      "             ReLU-21          [-1, 512, 32, 32]               0\n",
      "           Conv2d-22          [-1, 512, 32, 32]       2,359,808\n",
      "             ReLU-23          [-1, 512, 32, 32]               0\n",
      "        MaxPool2d-24          [-1, 512, 16, 16]               0\n",
      "           Conv2d-25          [-1, 512, 16, 16]       2,359,808\n",
      "             ReLU-26          [-1, 512, 16, 16]               0\n",
      "           Conv2d-27          [-1, 512, 16, 16]       2,359,808\n",
      "             ReLU-28          [-1, 512, 16, 16]               0\n",
      "           Conv2d-29          [-1, 512, 16, 16]       2,359,808\n",
      "             ReLU-30          [-1, 512, 16, 16]               0\n",
      "        MaxPool2d-31            [-1, 512, 8, 8]               0\n",
      "  ConvTranspose2d-32          [-1, 512, 16, 16]       1,049,088\n",
      "             ReLU-33          [-1, 512, 16, 16]               0\n",
      "  ConvTranspose2d-34          [-1, 512, 16, 16]       2,359,808\n",
      "             ReLU-35          [-1, 512, 16, 16]               0\n",
      "  ConvTranspose2d-36          [-1, 512, 16, 16]       2,359,808\n",
      "             ReLU-37          [-1, 512, 16, 16]               0\n",
      "  ConvTranspose2d-38          [-1, 256, 16, 16]       1,179,904\n",
      "             ReLU-39          [-1, 256, 16, 16]               0\n",
      "  ConvTranspose2d-40          [-1, 256, 32, 32]         262,400\n",
      "             ReLU-41          [-1, 256, 32, 32]               0\n",
      "  ConvTranspose2d-42          [-1, 256, 32, 32]         590,080\n",
      "             ReLU-43          [-1, 256, 32, 32]               0\n",
      "  ConvTranspose2d-44          [-1, 256, 32, 32]         590,080\n",
      "             ReLU-45          [-1, 256, 32, 32]               0\n",
      "  ConvTranspose2d-46          [-1, 128, 32, 32]         295,040\n",
      "             ReLU-47          [-1, 128, 32, 32]               0\n",
      "  ConvTranspose2d-48          [-1, 128, 64, 64]          65,664\n",
      "             ReLU-49          [-1, 128, 64, 64]               0\n",
      "  ConvTranspose2d-50          [-1, 128, 64, 64]         147,584\n",
      "             ReLU-51          [-1, 128, 64, 64]               0\n",
      "  ConvTranspose2d-52           [-1, 64, 64, 64]          73,792\n",
      "             ReLU-53           [-1, 64, 64, 64]               0\n",
      "  ConvTranspose2d-54         [-1, 64, 128, 128]          16,448\n",
      "             ReLU-55         [-1, 64, 128, 128]               0\n",
      "  ConvTranspose2d-56         [-1, 64, 128, 128]          36,928\n",
      "             ReLU-57         [-1, 64, 128, 128]               0\n",
      "  ConvTranspose2d-58          [-1, 3, 128, 128]           1,731\n",
      "             ReLU-59          [-1, 3, 128, 128]               0\n",
      "  ConvTranspose2d-60          [-1, 3, 256, 256]              39\n",
      "          Sigmoid-61          [-1, 3, 256, 256]               0\n",
      "================================================================\n",
      "Total params: 23,743,082\n",
      "Trainable params: 23,743,082\n",
      "Non-trainable params: 0\n",
      "----------------------------------------------------------------\n",
      "Input size (MB): 0.75\n",
      "Forward/backward pass size (MB): 362.00\n",
      "Params size (MB): 90.57\n",
      "Estimated Total Size (MB): 453.32\n",
      "----------------------------------------------------------------\n"
     ]
    }
   ],
   "source": [
    "from torchsummary import summary\n",
    "\n",
    "# Print the summary of the model\n",
    "summary(model, (3, 256, 256))"
   ]
  },
  {
   "cell_type": "code",
   "execution_count": null,
   "metadata": {},
   "outputs": [],
   "source": []
  }
 ],
 "metadata": {
  "kernelspec": {
   "display_name": "l2rpn-test",
   "language": "python",
   "name": "python3"
  },
  "language_info": {
   "codemirror_mode": {
    "name": "ipython",
    "version": 3
   },
   "file_extension": ".py",
   "mimetype": "text/x-python",
   "name": "python",
   "nbconvert_exporter": "python",
   "pygments_lexer": "ipython3",
   "version": "3.10.13"
  }
 },
 "nbformat": 4,
 "nbformat_minor": 2
}
